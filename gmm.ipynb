{
 "cells": [
  {
   "cell_type": "markdown",
   "metadata": {},
   "source": [
    "# Performing GMM\n",
    "Now that we have our dataset, we can now perform GMM to cluster stocks based on the technical indicators."
   ]
  },
  {
   "cell_type": "code",
   "execution_count": null,
   "metadata": {},
   "outputs": [],
   "source": [
    "tickers = [\"AMZN\", \"TSLA\", \"BABA\", \"HD\", \"TM\", \"NKE\", \"MCD\", \"LOW\", \"SBUX\", \"JD\", \"PDD\", \"BKNG\", \"GM\", \"MELI\", \"TJX\", \"NIO\", \"F\", \"LULU\", \"HMC\", \"CMG\"]"
   ]
  },
  {
   "cell_type": "code",
   "execution_count": null,
   "metadata": {},
   "outputs": [],
   "source": [
    "import sys\n",
    "import os\n",
    "\n",
    "!{sys.executable} -m pip install matplotlib\n",
    "!{sys.executable} -m pip install sklearn\n",
    "!{sys.executable} -m pip install numpy\n",
    "!{sys.executable} -m pip install pandas"
   ]
  },
  {
   "cell_type": "code",
   "execution_count": null,
   "metadata": {},
   "outputs": [],
   "source": [
    "from sklearn.preprocessing import StandardScaler\n",
    "from sklearn.mixture import GaussianMixture\n",
    "from sklearn.cluster import DBSCAN\n",
    "import numpy as np\n",
    "import pandas as pd\n",
    "import matplotlib.pyplot as plt\n"
   ]
  },
  {
   "cell_type": "markdown",
   "metadata": {},
   "source": [
    "We will first perform GMM on each stock individually based on its technical indicators, with the covariance type as full"
   ]
  },
  {
   "cell_type": "code",
   "execution_count": null,
   "metadata": {},
   "outputs": [],
   "source": [
    "print(\"Clustering on\", end=\" \")\n",
    "for i in range(len(tickers)):\n",
    "    \n",
    "    print(f\"{tickers[i]}\", end=',')\n",
    "\n",
    "    # read in data from csv\n",
    "    data = pd.read_csv(f'./data/{tickers[i]}.csv')\n",
    "\n",
    "    # generate matrix with technical indicators (features) as columns\n",
    "    features = data.to_numpy()[:, 6:]\n",
    "\n",
    "    # normalize each feature\n",
    "    scaler = StandardScaler()\n",
    "    X = scaler.fit_transform(features)\n",
    "\n",
    "    newPlot = plt.figure(i)\n",
    "    newPlot.suptitle(tickers[i])\n",
    "    n_components = np.arange(1, features.shape[1]+1)\n",
    "    gmms = [GaussianMixture(n_components=k, covariance_type='full').fit(X) for k in n_components]\n",
    "    \n",
    "    bics = np.array([gmm.bic(X) for gmm in gmms])\n",
    "    \n",
    "    minidx = np.argmin(bics)\n",
    "    centroids = gmms[minidx].means_\n",
    "\n",
    "    # descale centroids\n",
    "    centroids = scaler.inverse_transform(centroids)\n",
    "\n",
    "    # create df for centroids\n",
    "    centroids_df = pd.DataFrame(centroids, columns=data.columns[6:])\n",
    "    if not os.path.exists(\"centroids\"):\n",
    "        os.mkdir(\"centroids\")\n",
    "    centroids_df.to_csv(f'./centroids/{tickers[i]}_centroids.csv')\n",
    "\n",
    "    # plot the results\n",
    "    plt.axvline(x=minidx + 1, color='r')\n",
    "    plt.plot(n_components, bics, label='BIC')\n",
    "    plt.legend(loc='best')\n",
    "    plt.xlabel('n_components')\n",
    "\n",
    "plt.show()\n"
   ]
  }
 ],
 "metadata": {
  "interpreter": {
   "hash": "507157c702ed78002e2ebc825a47493be3352b03df2ad897d91f69b927688cb6"
  },
  "kernelspec": {
   "display_name": "Python 3.8.8 64-bit ('base': conda)",
   "name": "python3"
  },
  "language_info": {
   "codemirror_mode": {
    "name": "ipython",
    "version": 3
   },
   "file_extension": ".py",
   "mimetype": "text/x-python",
   "name": "python",
   "nbconvert_exporter": "python",
   "pygments_lexer": "ipython3",
   "version": "3.9.7"
  },
  "orig_nbformat": 4
 },
 "nbformat": 4,
 "nbformat_minor": 2
}
